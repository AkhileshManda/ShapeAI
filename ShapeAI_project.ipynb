{
  "nbformat": 4,
  "nbformat_minor": 0,
  "metadata": {
    "colab": {
      "name": "ShapeAI_project",
      "provenance": []
    },
    "kernelspec": {
      "name": "python3",
      "display_name": "Python 3"
    }
  },
  "cells": [
    {
      "cell_type": "code",
      "metadata": {
        "id": "wr2OOtEWHkPW"
      },
      "source": [
        "import tensorflow as tf\r\n",
        "from tensorflow.keras.models import Sequential\r\n",
        "from tensorflow.keras.layers import Input, Dense\r\n",
        "import numpy as np\r\n",
        "\r\n",
        "fashion_mnist = tf.keras.datasets.fashion_mnist\r\n",
        "(train_images, train_labels), (test_images, test_labels) = fashion_mnist.load_data()\r\n"
      ],
      "execution_count": 6,
      "outputs": []
    },
    {
      "cell_type": "code",
      "metadata": {
        "colab": {
          "base_uri": "https://localhost:8080/"
        },
        "id": "KxTWB85VJa4P",
        "outputId": "66b2e570-d8d0-4587-b937-fe3ed8cfae9e"
      },
      "source": [
        "train_images[0].shape"
      ],
      "execution_count": 5,
      "outputs": [
        {
          "output_type": "execute_result",
          "data": {
            "text/plain": [
              "(28, 28)"
            ]
          },
          "metadata": {
            "tags": []
          },
          "execution_count": 5
        }
      ]
    },
    {
      "cell_type": "code",
      "metadata": {
        "id": "pa_PnL3PJlpv"
      },
      "source": [
        "train_images= train_images.reshape((train_images.shape[0],28*28))\r\n",
        "test_images= test_images.reshape((test_images.shape[0],28*28))"
      ],
      "execution_count": 22,
      "outputs": []
    },
    {
      "cell_type": "code",
      "metadata": {
        "id": "EdUIlMghKzmH"
      },
      "source": [
        "train_images= train_images/255\r\n",
        "test_images= test_images/255"
      ],
      "execution_count": 11,
      "outputs": []
    },
    {
      "cell_type": "code",
      "metadata": {
        "colab": {
          "base_uri": "https://localhost:8080/"
        },
        "id": "U1YqbQJkLDA8",
        "outputId": "bacdc704-6453-43b5-8513-edab35eabdb9"
      },
      "source": [
        "from keras.utils import np_utils\r\n",
        "train_labels=np_utils.to_categorical(train_labels)\r\n",
        "test_labels=np_utils.to_categorical(test_labels)\r\n",
        "num_classes=test_labels.shape[1]\r\n",
        "print(num_classes)"
      ],
      "execution_count": 12,
      "outputs": [
        {
          "output_type": "stream",
          "text": [
            "10\n"
          ],
          "name": "stdout"
        }
      ]
    },
    {
      "cell_type": "code",
      "metadata": {
        "id": "Hv4Vfv0ILoH-"
      },
      "source": [
        "from keras.models import Sequential\r\n",
        "from keras.layers import Dense\r\n",
        "from keras.layers import Dropout"
      ],
      "execution_count": 13,
      "outputs": []
    },
    {
      "cell_type": "code",
      "metadata": {
        "id": "7pZ_-NntMBJE"
      },
      "source": [
        "model = Sequential()\r\n",
        "model.add(Dense(32, input_dim = 28*28 , activation='relu'))\r\n",
        "model.add(Dense(64, activation='relu'))\r\n",
        "model.add(Dense(32, activation='relu'))\r\n",
        "model.add(Dense(25, activation='relu'))\r\n",
        "model.add(Dense(62, activation='relu'))\r\n",
        "model.add(Dense(10, activation='softmax'))"
      ],
      "execution_count": 14,
      "outputs": []
    },
    {
      "cell_type": "code",
      "metadata": {
        "id": "nc9ex3dhMpVU"
      },
      "source": [
        "model.compile(loss='categorical_crossentropy', optimizer='adam', metrics=['accuracy'])"
      ],
      "execution_count": 16,
      "outputs": []
    },
    {
      "cell_type": "code",
      "metadata": {
        "colab": {
          "base_uri": "https://localhost:8080/"
        },
        "id": "ctWo7f3kMxK9",
        "outputId": "ab50cdb4-19f5-4f5c-8d85-b0fa05c89158"
      },
      "source": [
        "model.summary()"
      ],
      "execution_count": 17,
      "outputs": [
        {
          "output_type": "stream",
          "text": [
            "Model: \"sequential\"\n",
            "_________________________________________________________________\n",
            "Layer (type)                 Output Shape              Param #   \n",
            "=================================================================\n",
            "dense (Dense)                (None, 32)                25120     \n",
            "_________________________________________________________________\n",
            "dense_1 (Dense)              (None, 64)                2112      \n",
            "_________________________________________________________________\n",
            "dense_2 (Dense)              (None, 32)                2080      \n",
            "_________________________________________________________________\n",
            "dense_3 (Dense)              (None, 25)                825       \n",
            "_________________________________________________________________\n",
            "dense_4 (Dense)              (None, 62)                1612      \n",
            "_________________________________________________________________\n",
            "dense_5 (Dense)              (None, 10)                630       \n",
            "=================================================================\n",
            "Total params: 32,379\n",
            "Trainable params: 32,379\n",
            "Non-trainable params: 0\n",
            "_________________________________________________________________\n"
          ],
          "name": "stdout"
        }
      ]
    },
    {
      "cell_type": "code",
      "metadata": {
        "colab": {
          "base_uri": "https://localhost:8080/"
        },
        "id": "k2_ilEngM3Um",
        "outputId": "e70f838c-0c4b-4a27-d75b-03ad829fb29c"
      },
      "source": [
        "model.fit(train_images, train_labels, validation_split=0.2 , epochs=50, batch_size=100)"
      ],
      "execution_count": 19,
      "outputs": [
        {
          "output_type": "stream",
          "text": [
            "Epoch 1/50\n",
            "480/480 [==============================] - 2s 3ms/step - loss: 0.5284 - accuracy: 0.8105 - val_loss: 0.5338 - val_accuracy: 0.8070\n",
            "Epoch 2/50\n",
            "480/480 [==============================] - 2s 3ms/step - loss: 0.5189 - accuracy: 0.8129 - val_loss: 0.5303 - val_accuracy: 0.8060\n",
            "Epoch 3/50\n",
            "480/480 [==============================] - 2s 3ms/step - loss: 0.5096 - accuracy: 0.8160 - val_loss: 0.5369 - val_accuracy: 0.8001\n",
            "Epoch 4/50\n",
            "480/480 [==============================] - 2s 3ms/step - loss: 0.5031 - accuracy: 0.8185 - val_loss: 0.5138 - val_accuracy: 0.8108\n",
            "Epoch 5/50\n",
            "480/480 [==============================] - 2s 3ms/step - loss: 0.4927 - accuracy: 0.8228 - val_loss: 0.5089 - val_accuracy: 0.8133\n",
            "Epoch 6/50\n",
            "480/480 [==============================] - 2s 3ms/step - loss: 0.4867 - accuracy: 0.8254 - val_loss: 0.4823 - val_accuracy: 0.8236\n",
            "Epoch 7/50\n",
            "480/480 [==============================] - 2s 4ms/step - loss: 0.4734 - accuracy: 0.8309 - val_loss: 0.4831 - val_accuracy: 0.8237\n",
            "Epoch 8/50\n",
            "480/480 [==============================] - 2s 3ms/step - loss: 0.4628 - accuracy: 0.8350 - val_loss: 0.4816 - val_accuracy: 0.8285\n",
            "Epoch 9/50\n",
            "480/480 [==============================] - 1s 3ms/step - loss: 0.4524 - accuracy: 0.8380 - val_loss: 0.4870 - val_accuracy: 0.8217\n",
            "Epoch 10/50\n",
            "480/480 [==============================] - 2s 3ms/step - loss: 0.4454 - accuracy: 0.8411 - val_loss: 0.4593 - val_accuracy: 0.8347\n",
            "Epoch 11/50\n",
            "480/480 [==============================] - 2s 3ms/step - loss: 0.4395 - accuracy: 0.8431 - val_loss: 0.4506 - val_accuracy: 0.8361\n",
            "Epoch 12/50\n",
            "480/480 [==============================] - 1s 3ms/step - loss: 0.4282 - accuracy: 0.8479 - val_loss: 0.4807 - val_accuracy: 0.8287\n",
            "Epoch 13/50\n",
            "480/480 [==============================] - 2s 3ms/step - loss: 0.4240 - accuracy: 0.8502 - val_loss: 0.4357 - val_accuracy: 0.8441\n",
            "Epoch 14/50\n",
            "480/480 [==============================] - 2s 4ms/step - loss: 0.4177 - accuracy: 0.8513 - val_loss: 0.4421 - val_accuracy: 0.8433\n",
            "Epoch 15/50\n",
            "480/480 [==============================] - 2s 3ms/step - loss: 0.4101 - accuracy: 0.8535 - val_loss: 0.4517 - val_accuracy: 0.8380\n",
            "Epoch 16/50\n",
            "480/480 [==============================] - 2s 3ms/step - loss: 0.4039 - accuracy: 0.8563 - val_loss: 0.4225 - val_accuracy: 0.8487\n",
            "Epoch 17/50\n",
            "480/480 [==============================] - 2s 3ms/step - loss: 0.3958 - accuracy: 0.8581 - val_loss: 0.4566 - val_accuracy: 0.8353\n",
            "Epoch 18/50\n",
            "480/480 [==============================] - 1s 3ms/step - loss: 0.3901 - accuracy: 0.8621 - val_loss: 0.4152 - val_accuracy: 0.8513\n",
            "Epoch 19/50\n",
            "480/480 [==============================] - 2s 3ms/step - loss: 0.3859 - accuracy: 0.8638 - val_loss: 0.4314 - val_accuracy: 0.8440\n",
            "Epoch 20/50\n",
            "480/480 [==============================] - 1s 3ms/step - loss: 0.3808 - accuracy: 0.8629 - val_loss: 0.4073 - val_accuracy: 0.8576\n",
            "Epoch 21/50\n",
            "480/480 [==============================] - 2s 3ms/step - loss: 0.3751 - accuracy: 0.8669 - val_loss: 0.4188 - val_accuracy: 0.8545\n",
            "Epoch 22/50\n",
            "480/480 [==============================] - 2s 3ms/step - loss: 0.3701 - accuracy: 0.8681 - val_loss: 0.3994 - val_accuracy: 0.8568\n",
            "Epoch 23/50\n",
            "480/480 [==============================] - 2s 3ms/step - loss: 0.3663 - accuracy: 0.8695 - val_loss: 0.3890 - val_accuracy: 0.8608\n",
            "Epoch 24/50\n",
            "480/480 [==============================] - 2s 3ms/step - loss: 0.3617 - accuracy: 0.8699 - val_loss: 0.3979 - val_accuracy: 0.8579\n",
            "Epoch 25/50\n",
            "480/480 [==============================] - 2s 3ms/step - loss: 0.3600 - accuracy: 0.8691 - val_loss: 0.3950 - val_accuracy: 0.8593\n",
            "Epoch 26/50\n",
            "480/480 [==============================] - 2s 3ms/step - loss: 0.3548 - accuracy: 0.8733 - val_loss: 0.4074 - val_accuracy: 0.8509\n",
            "Epoch 27/50\n",
            "480/480 [==============================] - 2s 3ms/step - loss: 0.3519 - accuracy: 0.8738 - val_loss: 0.3855 - val_accuracy: 0.8645\n",
            "Epoch 28/50\n",
            "480/480 [==============================] - 2s 3ms/step - loss: 0.3485 - accuracy: 0.8743 - val_loss: 0.4176 - val_accuracy: 0.8496\n",
            "Epoch 29/50\n",
            "480/480 [==============================] - 2s 3ms/step - loss: 0.3465 - accuracy: 0.8746 - val_loss: 0.4183 - val_accuracy: 0.8511\n",
            "Epoch 30/50\n",
            "480/480 [==============================] - 2s 3ms/step - loss: 0.3424 - accuracy: 0.8765 - val_loss: 0.3840 - val_accuracy: 0.8630\n",
            "Epoch 31/50\n",
            "480/480 [==============================] - 2s 3ms/step - loss: 0.3410 - accuracy: 0.8775 - val_loss: 0.3771 - val_accuracy: 0.8630\n",
            "Epoch 32/50\n",
            "480/480 [==============================] - 2s 3ms/step - loss: 0.3350 - accuracy: 0.8795 - val_loss: 0.3877 - val_accuracy: 0.8613\n",
            "Epoch 33/50\n",
            "480/480 [==============================] - 2s 3ms/step - loss: 0.3337 - accuracy: 0.8810 - val_loss: 0.4148 - val_accuracy: 0.8545\n",
            "Epoch 34/50\n",
            "480/480 [==============================] - 2s 3ms/step - loss: 0.3355 - accuracy: 0.8780 - val_loss: 0.3753 - val_accuracy: 0.8681\n",
            "Epoch 35/50\n",
            "480/480 [==============================] - 2s 3ms/step - loss: 0.3308 - accuracy: 0.8802 - val_loss: 0.3809 - val_accuracy: 0.8632\n",
            "Epoch 36/50\n",
            "480/480 [==============================] - 2s 3ms/step - loss: 0.3259 - accuracy: 0.8823 - val_loss: 0.3819 - val_accuracy: 0.8674\n",
            "Epoch 37/50\n",
            "480/480 [==============================] - 2s 3ms/step - loss: 0.3272 - accuracy: 0.8822 - val_loss: 0.3864 - val_accuracy: 0.8620\n",
            "Epoch 38/50\n",
            "480/480 [==============================] - 2s 3ms/step - loss: 0.3224 - accuracy: 0.8829 - val_loss: 0.3854 - val_accuracy: 0.8624\n",
            "Epoch 39/50\n",
            "480/480 [==============================] - 2s 3ms/step - loss: 0.3186 - accuracy: 0.8842 - val_loss: 0.3730 - val_accuracy: 0.8667\n",
            "Epoch 40/50\n",
            "480/480 [==============================] - 2s 3ms/step - loss: 0.3214 - accuracy: 0.8832 - val_loss: 0.3931 - val_accuracy: 0.8605\n",
            "Epoch 41/50\n",
            "480/480 [==============================] - 2s 3ms/step - loss: 0.3153 - accuracy: 0.8859 - val_loss: 0.3752 - val_accuracy: 0.8692\n",
            "Epoch 42/50\n",
            "480/480 [==============================] - 2s 3ms/step - loss: 0.3162 - accuracy: 0.8854 - val_loss: 0.3708 - val_accuracy: 0.8708\n",
            "Epoch 43/50\n",
            "480/480 [==============================] - 2s 3ms/step - loss: 0.3168 - accuracy: 0.8840 - val_loss: 0.3766 - val_accuracy: 0.8707\n",
            "Epoch 44/50\n",
            "480/480 [==============================] - 2s 3ms/step - loss: 0.3150 - accuracy: 0.8867 - val_loss: 0.3862 - val_accuracy: 0.8652\n",
            "Epoch 45/50\n",
            "480/480 [==============================] - 2s 3ms/step - loss: 0.3103 - accuracy: 0.8870 - val_loss: 0.3635 - val_accuracy: 0.8719\n",
            "Epoch 46/50\n",
            "480/480 [==============================] - 2s 3ms/step - loss: 0.3077 - accuracy: 0.8878 - val_loss: 0.3628 - val_accuracy: 0.8740\n",
            "Epoch 47/50\n",
            "480/480 [==============================] - 2s 3ms/step - loss: 0.3067 - accuracy: 0.8885 - val_loss: 0.3708 - val_accuracy: 0.8708\n",
            "Epoch 48/50\n",
            "480/480 [==============================] - 2s 3ms/step - loss: 0.3048 - accuracy: 0.8887 - val_loss: 0.4057 - val_accuracy: 0.8595\n",
            "Epoch 49/50\n",
            "480/480 [==============================] - 2s 3ms/step - loss: 0.3042 - accuracy: 0.8883 - val_loss: 0.3738 - val_accuracy: 0.8702\n",
            "Epoch 50/50\n",
            "480/480 [==============================] - 2s 4ms/step - loss: 0.2997 - accuracy: 0.8907 - val_loss: 0.3727 - val_accuracy: 0.8731\n"
          ],
          "name": "stdout"
        },
        {
          "output_type": "execute_result",
          "data": {
            "text/plain": [
              "<tensorflow.python.keras.callbacks.History at 0x7fd42dadafd0>"
            ]
          },
          "metadata": {
            "tags": []
          },
          "execution_count": 19
        }
      ]
    },
    {
      "cell_type": "code",
      "metadata": {
        "colab": {
          "base_uri": "https://localhost:8080/"
        },
        "id": "hL6uXO3UNr0U",
        "outputId": "6b550089-7086-478c-dde7-02465e5573e7"
      },
      "source": [
        "final_score=model.evaluate(test_images,test_labels)\r\n",
        "print(final_score)"
      ],
      "execution_count": 20,
      "outputs": [
        {
          "output_type": "stream",
          "text": [
            "313/313 [==============================] - 1s 2ms/step - loss: 0.4004 - accuracy: 0.8581\n",
            "[0.40037834644317627, 0.8580999970436096]\n"
          ],
          "name": "stdout"
        }
      ]
    }
  ]
}